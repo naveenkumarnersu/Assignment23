{
 "cells": [
  {
   "cell_type": "code",
   "execution_count": 1,
   "metadata": {},
   "outputs": [
    {
     "name": "stdout",
     "output_type": "stream",
     "text": [
      "Value of x before calling the function: 5\n",
      "Value of x after calling the function: 10\n"
     ]
    }
   ],
   "source": [
    "'''1.Define a global variable x with value 5. Write a Python function update_x() that tries to modify the global \n",
    "     variable x to 10. Print the value of x before and after calling the function.'''\n",
    "     \n",
    "     \n",
    "x = 5\n",
    "\n",
    "def update_x():\n",
    "    return 10 \n",
    "\n",
    "print(\"Value of x before calling the function:\", x)\n",
    "\n",
    "x = update_x()\n",
    "\n",
    "print(\"Value of x after calling the function:\", x)"
   ]
  },
  {
   "cell_type": "code",
   "execution_count": 16,
   "metadata": {},
   "outputs": [
    {
     "ename": "AttributeError",
     "evalue": "module 'calculator' has no attribute 'add'",
     "output_type": "error",
     "traceback": [
      "\u001b[1;31m---------------------------------------------------------------------------\u001b[0m",
      "\u001b[1;31mAttributeError\u001b[0m                            Traceback (most recent call last)",
      "Cell \u001b[1;32mIn[16], line 6\u001b[0m\n\u001b[0;32m      1\u001b[0m \u001b[38;5;124;03m'''2 Create a Python module named calculator.py with functions add(a, b) and multiply(a, b). Import this module \u001b[39;00m\n\u001b[0;32m      2\u001b[0m \u001b[38;5;124;03m     into another Python script and use these functions to add and multiply two numbers.'''\u001b[39;00m\n\u001b[0;32m      4\u001b[0m \u001b[38;5;28;01mimport\u001b[39;00m \u001b[38;5;21;01mcalculator\u001b[39;00m\n\u001b[1;32m----> 6\u001b[0m result1 \u001b[38;5;241m=\u001b[39m \u001b[43mcalculator\u001b[49m\u001b[38;5;241;43m.\u001b[39;49m\u001b[43madd\u001b[49m(\u001b[38;5;241m5\u001b[39m,\u001b[38;5;241m10\u001b[39m)\n\u001b[0;32m      8\u001b[0m result2 \u001b[38;5;241m=\u001b[39m calculator\u001b[38;5;241m.\u001b[39mmultiply(\u001b[38;5;241m5\u001b[39m,\u001b[38;5;241m10\u001b[39m)\n\u001b[0;32m     10\u001b[0m \u001b[38;5;28mprint\u001b[39m(\u001b[38;5;124m\"\u001b[39m\u001b[38;5;124mResult for addition : \u001b[39m\u001b[38;5;124m\"\u001b[39m,result1)\n",
      "\u001b[1;31mAttributeError\u001b[0m: module 'calculator' has no attribute 'add'"
     ]
    }
   ],
   "source": [
    "'''2 Create a Python module named calculator.py with functions add(a, b) and multiply(a, b). Import this module \n",
    "     into another Python script and use these functions to add and multiply two numbers.'''\n",
    "     \n",
    "import calculator\n",
    "\n",
    "result1 = calculator.add(5,10)\n",
    "\n",
    "result2 = calculator.multiply(5,10)\n",
    "\n",
    "print(\"Result for addition : \",result1)\n",
    "\n",
    "print(\"Result for multiplication : \",result2)\n",
    "\n"
   ]
  },
  {
   "cell_type": "code",
   "execution_count": 18,
   "metadata": {},
   "outputs": [
    {
     "name": "stdout",
     "output_type": "stream",
     "text": [
      "No.of days in between :  30 days, 0:00:00\n"
     ]
    }
   ],
   "source": [
    "'''3.Write a Python function to find the number of days between two given dates.'''\n",
    "\n",
    "\n",
    "from datetime import date\n",
    "\n",
    "start_date = date(2024, 5, 24)\n",
    "\n",
    "end_date = date(2024, 6, 23)\n",
    "\n",
    "due = end_date - start_date\n",
    "\n",
    "print(\"No.of days in between : \",due)"
   ]
  },
  {
   "cell_type": "code",
   "execution_count": 21,
   "metadata": {},
   "outputs": [
    {
     "name": "stdout",
     "output_type": "stream",
     "text": [
      "Factorial of  4  :  24\n"
     ]
    }
   ],
   "source": [
    "'''4.Write a Python function to calculate the factorial of a given number n.'''\n",
    "\n",
    "n = 4\n",
    "\n",
    "import math\n",
    "\n",
    "fact = math.factorial(n)\n",
    "\n",
    "print(\"Factorial of \",n,\" : \",fact)"
   ]
  },
  {
   "cell_type": "code",
   "execution_count": 26,
   "metadata": {},
   "outputs": [
    {
     "name": "stdout",
     "output_type": "stream",
     "text": [
      "{\"brand\": \"poco\", \"model\": \"F5 5G\", \"price\": \"33,999\"}\n",
      "<class 'str'>\n",
      "{'brand': 'poco', 'model': 'F5 5G', 'price': '33,999'}\n",
      "<class 'dict'>\n"
     ]
    }
   ],
   "source": [
    "'''5.Given a JSON string representing a dictionary, write a Python function to convert it into a Python dictionary object.'''\n",
    "\n",
    "import json\n",
    "\n",
    "data = {\n",
    "         \"brand\" : \"poco\",\n",
    "         \"model\" : \"F5 5G\",\n",
    "         \"price\" : \"33,999\"   \n",
    "        }\n",
    "\n",
    "json_data = json.dumps(data)\n",
    "print(json_data)\n",
    "print(type(json_data))\n",
    "\n",
    "\n",
    "dict = json.loads(json_data)\n",
    "print(dict)\n",
    "print(type(dict))\n"
   ]
  },
  {
   "cell_type": "code",
   "execution_count": 1,
   "metadata": {},
   "outputs": [
    {
     "name": "stdout",
     "output_type": "stream",
     "text": [
      "All the emails in the text : \n",
      "naveenkumarnersu@gmail.com\n",
      "naveennersu47@gmail.com\n",
      "naveenkumar.nersu@arnocit.com\n"
     ]
    }
   ],
   "source": [
    "'''6.Write a Python program to extract all email addresses from a given text using regular expressions.'''\n",
    "\n",
    "import re\n",
    "\n",
    "pattern = r'\\b[A-Za-z0-9._%+-]+@[A-Za-z0-9.-]+\\.[A-Z|a-z]{2,}\\b'\n",
    "\n",
    "text =  '''My personal mail id - naveenkumarnersu@gmail.com, my another mail id - naveennersu47@gmail.com and my mail id at \n",
    "           at work - naveenkumar.nersu@arnocit.com'''\n",
    "\n",
    "extracted_emails = re.findall(pattern, text)\n",
    "\n",
    "print(\"All the emails in the text : \")\n",
    "\n",
    "for all_emails in extracted_emails :\n",
    "    print(all_emails)"
   ]
  },
  {
   "cell_type": "markdown",
   "metadata": {},
   "source": [
    "'''7.Explain the difference between local and global variables in Python with an example.'''\n",
    "\n",
    "'''Global Variable : 1. Global variables are those that are declared outside any function or method.\n",
    "                     2. They can be accessed or called anywhere in the program.\n",
    "                     3. Global variables are still active if or if not used in the program.'''\n",
    "\n",
    "x = 10\n",
    "\n",
    "def calculator() :\n",
    " \n",
    "  "
   ]
  },
  {
   "cell_type": "code",
   "execution_count": null,
   "metadata": {},
   "outputs": [],
   "source": []
  },
  {
   "cell_type": "code",
   "execution_count": null,
   "metadata": {},
   "outputs": [],
   "source": []
  },
  {
   "cell_type": "code",
   "execution_count": null,
   "metadata": {},
   "outputs": [],
   "source": []
  },
  {
   "cell_type": "code",
   "execution_count": null,
   "metadata": {},
   "outputs": [],
   "source": []
  }
 ],
 "metadata": {
  "kernelspec": {
   "display_name": "Python 3",
   "language": "python",
   "name": "python3"
  },
  "language_info": {
   "codemirror_mode": {
    "name": "ipython",
    "version": 3
   },
   "file_extension": ".py",
   "mimetype": "text/x-python",
   "name": "python",
   "nbconvert_exporter": "python",
   "pygments_lexer": "ipython3",
   "version": "3.12.3"
  }
 },
 "nbformat": 4,
 "nbformat_minor": 2
}
